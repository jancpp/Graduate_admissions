{
 "cells": [
  {
   "cell_type": "code",
   "execution_count": 1,
   "metadata": {},
   "outputs": [],
   "source": [
    "import matplotlib.pyplot as plt\n",
    "%matplotlib inline\n",
    "\n",
    "import seaborn as sns\n",
    "sns.set(context='notebook', style='darkgrid', palette='deep', font='sans-serif')\n",
    "\n",
    "import os\n",
    "import glob\n",
    "import pandas as pd\n",
    "import numpy as np\n",
    "import scipy as sp"
   ]
  },
  {
   "cell_type": "markdown",
   "metadata": {},
   "source": [
    "Results csv files from algos saved in results folder"
   ]
  },
  {
   "cell_type": "code",
   "execution_count": 2,
   "metadata": {},
   "outputs": [],
   "source": [
    "base_directory = \"results/\"\n",
    "\n",
    "model_files = [os.path.basename(x) for x in glob.glob(base_directory + '*.csv')]"
   ]
  },
  {
   "cell_type": "markdown",
   "metadata": {},
   "source": [
    "Model File Names"
   ]
  },
  {
   "cell_type": "code",
   "execution_count": 3,
   "metadata": {},
   "outputs": [
    {
     "data": {
      "text/plain": [
       "['NeuralNetwork.csv',\n",
       " 'RandomForestRegressor.csv',\n",
       " 'LinearRegression.csv',\n",
       " 'NegativeBinomial.csv',\n",
       " 'XGBoost.csv']"
      ]
     },
     "execution_count": 3,
     "metadata": {},
     "output_type": "execute_result"
    }
   ],
   "source": [
    "model_files"
   ]
  },
  {
   "cell_type": "markdown",
   "metadata": {},
   "source": [
    "Number of results files"
   ]
  },
  {
   "cell_type": "code",
   "execution_count": 4,
   "metadata": {},
   "outputs": [
    {
     "data": {
      "text/plain": [
       "5"
      ]
     },
     "execution_count": 4,
     "metadata": {},
     "output_type": "execute_result"
    }
   ],
   "source": [
    "len(model_files)"
   ]
  },
  {
   "cell_type": "markdown",
   "metadata": {},
   "source": [
    "Function to evaluate the accuracy of the different algorithms"
   ]
  },
  {
   "cell_type": "code",
   "execution_count": 5,
   "metadata": {},
   "outputs": [],
   "source": [
    "def scoreResults(nameClean,model):\n",
    "    output_error = model['ChanceOfAdmit'] - model['Predicted']\n",
    "\n",
    "    error = np.mean(np.abs(output_error))\n",
    "    accuracy = (1 - error) * 100\n",
    "    \n",
    "    averageDelta = np.mean(model['Delta'])\n",
    "\n",
    "    print(\"--------------------------------------\")\n",
    "    print(nameClean)\n",
    "    print(\"--------------------------------------\")\n",
    "    print(\"Test Accuracy: \" + str(round(accuracy,2)) + \"%\")\n",
    "    print(\"Average Delta: \" + str(round(averageDelta,2)))\n",
    "    print(\"\")\n",
    "    print(\"\")\n",
    "    \n",
    "    return"
   ]
  },
  {
   "cell_type": "markdown",
   "metadata": {},
   "source": [
    "Loop over the algo result csv files and call scoreResults to output the accuracy details"
   ]
  },
  {
   "cell_type": "code",
   "execution_count": 8,
   "metadata": {},
   "outputs": [
    {
     "name": "stdout",
     "output_type": "stream",
     "text": [
      "--------------------------------------\n",
      "NeuralNetwork\n",
      "--------------------------------------\n",
      "Test Accuracy: 94.88%\n",
      "Average Delta: 0.05\n",
      "\n",
      "\n",
      "--------------------------------------\n",
      "RandomForestRegressor\n",
      "--------------------------------------\n",
      "Test Accuracy: 95.3%\n",
      "Average Delta: 0.05\n",
      "\n",
      "\n",
      "--------------------------------------\n",
      "LinearRegression\n",
      "--------------------------------------\n",
      "Test Accuracy: 95.75%\n",
      "Average Delta: 0.04\n",
      "\n",
      "\n",
      "--------------------------------------\n",
      "NegativeBinomial\n",
      "--------------------------------------\n",
      "Test Accuracy: 93.55%\n",
      "Average Delta: 0.06\n",
      "\n",
      "\n",
      "--------------------------------------\n",
      "XGBoost\n",
      "--------------------------------------\n",
      "Test Accuracy: 95.55%\n",
      "Average Delta: 0.04\n",
      "\n",
      "\n"
     ]
    }
   ],
   "source": [
    "model_names = []\n",
    "\n",
    "for i,filename in enumerate(model_files):\n",
    "    name = filename\n",
    "    \n",
    "    nameClean = name.replace(\".csv\", \"\")\n",
    "    \n",
    "    model_names.append(nameClean)\n",
    "    \n",
    "    #base_directory\n",
    "    filePath = base_directory + filename\n",
    "    model = pd.read_csv(filePath, usecols=['ChanceOfAdmit', 'Predicted', 'Delta'])\n",
    "    \n",
    "    scoreResults(nameClean,model)"
   ]
  },
  {
   "cell_type": "code",
   "execution_count": null,
   "metadata": {},
   "outputs": [],
   "source": []
  },
  {
   "cell_type": "code",
   "execution_count": null,
   "metadata": {},
   "outputs": [],
   "source": []
  }
 ],
 "metadata": {
  "kernelspec": {
   "display_name": "Python 3",
   "language": "python",
   "name": "python3"
  },
  "language_info": {
   "codemirror_mode": {
    "name": "ipython",
    "version": 3
   },
   "file_extension": ".py",
   "mimetype": "text/x-python",
   "name": "python",
   "nbconvert_exporter": "python",
   "pygments_lexer": "ipython3",
   "version": "3.6.5"
  }
 },
 "nbformat": 4,
 "nbformat_minor": 2
}
