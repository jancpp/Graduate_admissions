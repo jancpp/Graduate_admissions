{
 "cells": [
  {
   "cell_type": "code",
   "execution_count": 1,
   "metadata": {},
   "outputs": [],
   "source": [
    "import matplotlib.pyplot as plt\n",
    "%matplotlib inline\n",
    "\n",
    "import seaborn as sns\n",
    "sns.set(context='notebook', style='darkgrid', palette='deep', font='sans-serif')\n",
    "\n",
    "import os\n",
    "import glob\n",
    "import pandas as pd\n",
    "import numpy as np\n",
    "import scipy as sp"
   ]
  },
  {
   "cell_type": "code",
   "execution_count": 2,
   "metadata": {},
   "outputs": [],
   "source": [
    "base_directory = \"results/\"\n",
    "\n",
    "model_files = [os.path.basename(x) for x in glob.glob(base_directory+'*.csv')]"
   ]
  },
  {
   "cell_type": "code",
   "execution_count": 3,
   "metadata": {},
   "outputs": [
    {
     "data": {
      "text/plain": [
       "['LinearRegression.csv']"
      ]
     },
     "execution_count": 3,
     "metadata": {},
     "output_type": "execute_result"
    }
   ],
   "source": [
    "model_files"
   ]
  },
  {
   "cell_type": "code",
   "execution_count": 4,
   "metadata": {},
   "outputs": [
    {
     "data": {
      "text/plain": [
       "'results/'"
      ]
     },
     "execution_count": 4,
     "metadata": {},
     "output_type": "execute_result"
    }
   ],
   "source": [
    "base_directory"
   ]
  },
  {
   "cell_type": "code",
   "execution_count": 5,
   "metadata": {},
   "outputs": [
    {
     "data": {
      "text/plain": [
       "1"
      ]
     },
     "execution_count": 5,
     "metadata": {},
     "output_type": "execute_result"
    }
   ],
   "source": [
    "len(model_files)"
   ]
  },
  {
   "cell_type": "code",
   "execution_count": 6,
   "metadata": {},
   "outputs": [],
   "source": [
    "def scoreResults(nameClean,model):\n",
    "    output_error = model['ChanceOfAdmit'] - model['Predicted']\n",
    "\n",
    "    error = np.mean(np.abs(output_error))\n",
    "    accuracy_lin_reg = (1 - error) * 100\n",
    "\n",
    "    print(\"Test Accuracy of \" + nameClean + \": \" + str(round(accuracy_lin_reg,2)) + \"%\")\n",
    "    \n",
    "    return #np.sum(true_sign*pred_sign) "
   ]
  },
  {
   "cell_type": "code",
   "execution_count": 7,
   "metadata": {},
   "outputs": [
    {
     "name": "stdout",
     "output_type": "stream",
     "text": [
      "Test Accuracy of LinearRegression: 95.75%\n"
     ]
    }
   ],
   "source": [
    "\n",
    "model_names = []\n",
    "for i,filename in enumerate(model_files):\n",
    "    name = filename\n",
    "    \n",
    "    nameClean = name.replace(\".csv\", \"\")\n",
    "    \n",
    "    model_names.append(nameClean)\n",
    "    \n",
    "    #base_directory\n",
    "    filePath = base_directory + filename\n",
    "    model = pd.read_csv(filePath, usecols=['ChanceOfAdmit', 'Predicted', 'Delta'])\n",
    "    \n",
    "    scoreResults(nameClean,model)"
   ]
  },
  {
   "cell_type": "code",
   "execution_count": null,
   "metadata": {},
   "outputs": [],
   "source": []
  }
 ],
 "metadata": {
  "kernelspec": {
   "display_name": "Python 3",
   "language": "python",
   "name": "python3"
  },
  "language_info": {
   "codemirror_mode": {
    "name": "ipython",
    "version": 3
   },
   "file_extension": ".py",
   "mimetype": "text/x-python",
   "name": "python",
   "nbconvert_exporter": "python",
   "pygments_lexer": "ipython3",
   "version": "3.7.1"
  }
 },
 "nbformat": 4,
 "nbformat_minor": 2
}
